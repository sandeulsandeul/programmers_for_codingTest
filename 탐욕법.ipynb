{
 "cells": [
  {
   "cell_type": "markdown",
   "metadata": {},
   "source": [
    "# 탐욕법"
   ]
  },
  {
   "cell_type": "markdown",
   "metadata": {},
   "source": [
    "\n",
    "\n",
    "눈앞의 이익만 우선 추구하는 알고리즘을 총칭     \n",
    "그리디 알고리즘은 대부분의 경우 뛰어난 결과를 도출하지 못하지만  \n",
    "드물게 최적해를 보장하는 경우도 있다. \n"
   ]
  },
  {
   "cell_type": "raw",
   "metadata": {},
   "source": [
    "do{\n",
    "    가장 좋아 보이는 선택\n",
    "} until ( 해 구성 완료 )"
   ]
  },
  {
   "attachments": {},
   "cell_type": "markdown",
   "metadata": {},
   "source": [
    "그리디 알고리즘은 기준에 따라 좋은 것을 선택하는 알고리즘이므로 문제에서   \n",
    "\" 가장 큰 순서대로\", \" 가장 작은 순서대로\" 와 같은 기준을 제시해 준다.    "
   ]
  },
  {
   "cell_type": "markdown",
   "metadata": {},
   "source": [
    "## 대표적인 문제 - 거스름돈\n",
    "\n",
    "당시은 음식점의 계산을 도와주는 점원이다. 카운터에는 거스름돈으로 사용할 500원, 100원, 50원, 10원 \n",
    "짜리 동전이 무한히 존재한다고 가정하나. 손님에게 거슬러 줘야 할 돈이 N원일 때 거슬러 줘야 할 동전의 최소 개수를 구하라.\n",
    "단, 거슬러 줘야 할 돈 N은 항상 10의 배수이다.\n",
    "\n",
    "-> \"가장 큰 화폐 단위부터 돈을 거슬러 준다.\"\n",
    "\n",
    "대부분의 그리디 알고리즘 문제에서 문제 풀이를 위한 최소한의 아이디어를 떠올리고   \n",
    "정당한지 검토할 수 있어야 한다.   \n"
   ]
  },
  {
   "cell_type": "code",
   "execution_count": 2,
   "metadata": {},
   "outputs": [
    {
     "name": "stdout",
     "output_type": "stream",
     "text": [
      "6\n"
     ]
    }
   ],
   "source": [
    "n = 1260 \n",
    "count = 0\n",
    "\n",
    "# 큰 단위의 화폐부터 차례대로 확인\n",
    "coin_types = [500,100,50,10]\n",
    "\n",
    "for coin in coin_types :\n",
    "    count += n // coin  # 해당 화폐로 거슬러 줄 수 있는 동전의 개수 세기\n",
    "    n %= coin\n",
    "\n",
    "print(count)"
   ]
  },
  {
   "cell_type": "markdown",
   "metadata": {},
   "source": [
    "# 체육복\n",
    "\n",
    "점심시간에 도둑이 들어, 일부 학생이 체육복을 도난당했습니다. 다행히 여벌 체육복이 있는 학생이 이들에게 체육복을 빌려주려 합니다.     \n",
    "학생들의 번호는 체격 순으로 매겨져 있어, 바로 앞번호의 학생이나 바로 뒷번호의 학생에게만 체육복을 빌려줄 수 있습니다.     \n",
    "예를 들어, 4번 학생은 3번 학생이나 5번 학생에게만 체육복을 빌려줄 수 있습니다.     \n",
    "체육복이 없으면 수업을 들을 수 없기 때문에 체육복을 적절히 빌려 최대한 많은 학생이 체육수업을 들어야 합니다.     \n",
    "\n",
    "전체 학생의 수 n, 체육복을 도난당한 학생들의 번호가 담긴 배열 lost,   \n",
    "여벌의 체육복을 가져온 학생들의 번호가 담긴 배열 reserve가 매개변수로 주어질 때,    \n",
    "체육수업을 들을 수 있는 학생의 최댓값을 return 하도록 solution 함수를 작성해주세요.   \n",
    "\n",
    "https://programmers.co.kr/learn/courses/30/lessons/42862"
   ]
  },
  {
   "cell_type": "code",
   "execution_count": 3,
   "metadata": {},
   "outputs": [],
   "source": [
    "def solution(n, lost, reserve):\n",
    "    answer = 0\n",
    "    lostNum = 0\n",
    "    stack = []\n",
    "    \n",
    "    # lost 와 reserve 둘 다 있는 값을 확인\n",
    "    for l in lost :\n",
    "        for r in reserve :\n",
    "            if  l == r :\n",
    "                stack.append(r)\n",
    "    # lost 와 reserve 둘 다 있으면 삭제한다.\n",
    "    for s in stack:\n",
    "        lost.remove(s)\n",
    "        reserve.remove(s)\n",
    "        \n",
    "    # reserve의 학생들의 \n",
    "    # 바로 앞번호의 학생이나 바로 뒷번호의 학생 중에 \n",
    "    # 체육복을 빌려줄 아이가 있는지 확인 \n",
    "    # 앞 번호부터 처리 \n",
    "    for res in reserve :\n",
    "        if res-1 in lost :\n",
    "            lost.remove(res-1)\n",
    "            continue\n",
    "        if res+ 1 in lost :\n",
    "            lost.remove(res+1)\n",
    "            continue\n",
    "    \n",
    "    # 남아있는 아이들을 전체 수에서 뺀다.     \n",
    "    return n - len(lost)"
   ]
  },
  {
   "cell_type": "markdown",
   "metadata": {},
   "source": [
    "# 코드 개선 "
   ]
  },
  {
   "cell_type": "code",
   "execution_count": 4,
   "metadata": {},
   "outputs": [],
   "source": [
    "def solution(n, lost, reserve):\n",
    "    # lost 와 reserve 둘 다 있으면 삭제한다.\n",
    "    _reserve = [r for r in reserve if r not in lost]\n",
    "    _lost = [l for l in lost if l not in reserve]\n",
    "    \n",
    "    for r in _reserve:\n",
    "        # 바로 앞번호의 학생이나 바로 뒷번호의 학생 중에 \n",
    "        # 체육복을 빌려줄 아이가 있는지 확인 \n",
    "        f = r - 1 \n",
    "        b = r + 1\n",
    "        # 앞 번호부터 처리 \n",
    "        if f in _lost:\n",
    "            _lost.remove(f)\n",
    "        elif b in _lost:\n",
    "            _lost.remove(b)\n",
    "    return n - len(_lost)"
   ]
  },
  {
   "cell_type": "markdown",
   "metadata": {},
   "source": [
    "# 섬 연결하기\n"
   ]
  },
  {
   "cell_type": "code",
   "execution_count": null,
   "metadata": {},
   "outputs": [],
   "source": [
    "def solution(n, costs):\n",
    "    answer = 0\n",
    "    # 가장 작은 비용 순으로 정렬한다. \n",
    "    costs.sort(key=lambda x:x[2])\n",
    "    connect = []\n",
    "    print(costs)\n",
    "    # 각각의 섬들로 집합을 만들어 connect 리스트에 저장한다. \n",
    "    # (ex. connect = [{0}, {1}, {2}, {3}...]) \n",
    "    # 각각의 집합들은 연결되어 있는 섬들의 집합으로 같은 집합에 속해있으면 서로 연결된 관계이다.\n",
    "    for i in range(n):\n",
    "        connect.append({i})\n",
    "    print(connect)\n",
    "    \n",
    "    # costs 리스트를 for문을 돌린다. \n",
    "    for i in costs:\n",
    "        temp0 = set()\n",
    "        temp1 = set()\n",
    "    \n",
    "        # connect에서 현재 연결하려는 두 섬이 포함된 집합을 각각 찾는다.\n",
    "        print(\"connect\",connect)\n",
    "        for j in connect:\n",
    "            if i[0] in j:\n",
    "                temp0 = j\n",
    "            if i[1] in j:\n",
    "                temp1 = j\n",
    "        \n",
    "        # 찾은 두 집합이 같은 집합이면 두 섬은 이미 연결되어있는 상태이므로 \n",
    "        # 다리를 건설하지 않고 continue로 다음 차례로 넘어간다. \n",
    "        if temp0 == temp1:\n",
    "            continue\n",
    "         # 두 집합이 다른 집합이면 서로 연결되어 있지 않은 상태이므로 다리를 건설한다.\n",
    "        else:\n",
    "            # 두 섬이 연결되었음을 업데이트하기 위해 \n",
    "            # connect에서 아까 찾은 두 집합을 삭제한 후 두 집합의 합집합을 추가한다. \n",
    "            connect.remove(temp0)\n",
    "            connect.remove(temp1)\n",
    "            connect.append(temp0|temp1)\n",
    "            # answer에는 이 다리를 건설하기 위한 비용을 더한다.\n",
    "            answer += i[2]\n",
    "            # 모든 섬이 연결되어 connect의 원소가 하나이고 \n",
    "            # 그 원소인 집합의 길이가 n-1이 되면 break로 for문을 빠져나온다. \n",
    "            if len(connect)==1 and len(connect[0])==n-1:\n",
    "                break\n",
    "\n",
    "    return answer"
   ]
  }
 ],
 "metadata": {
  "kernelspec": {
   "display_name": "Python 3",
   "language": "python",
   "name": "python3"
  },
  "language_info": {
   "codemirror_mode": {
    "name": "ipython",
    "version": 3
   },
   "file_extension": ".py",
   "mimetype": "text/x-python",
   "name": "python",
   "nbconvert_exporter": "python",
   "pygments_lexer": "ipython3",
   "version": "3.8.5"
  }
 },
 "nbformat": 4,
 "nbformat_minor": 4
}
