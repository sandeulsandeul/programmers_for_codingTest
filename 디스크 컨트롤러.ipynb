{
 "cells": [
  {
   "cell_type": "markdown",
   "metadata": {},
   "source": [
    "##힙 \n",
    "\n",
    "### 1. 힙 (Heap) 이란?\n",
    "\n",
    "- 힙: 데이터에서 최대값과 최소값을 빠르게 찾기 위해 고안된 완전 이진 트리(Complete Binary Tree)\n",
    "완전 이진 트리: 노드를 삽입할 때 최하단 왼쪽 노드부터 차례대로 삽입하는 트리\n",
    "\n",
    "<img src=\"https://www.fun-coding.org/00_Images/completebinarytree.png\" width=300>\n",
    "\n",
    ": 우선 순위 큐와 같이 최대값, 최솟값을 빠르게 찾을 수 있음 \n",
    "최소 힙 / 최대 힙이 있음"
   ]
  },
  {
   "cell_type": "code",
   "execution_count": null,
   "metadata": {},
   "outputs": [],
   "source": []
  },
  {
   "cell_type": "code",
   "execution_count": 2,
   "metadata": {},
   "outputs": [],
   "source": [
    "\n",
    "import heapq\n",
    "from collections import deque\n",
    "\n",
    "def solution(jobs):\n",
    "    tasks = deque(sorted([(x[1], x[0]) for x in jobs], key=lambda x: (x[1], x[0])))\n",
    "    q = []\n",
    "    heapq.heappush(q, tasks.popleft())\n",
    "    current_time, total_response_time = 0, 0\n",
    "    while len(q) > 0:\n",
    "        dur, arr = heapq.heappop(q)\n",
    "        current_time = max(current_time + dur, arr + dur)\n",
    "        total_response_time += current_time - arr\n",
    "        while len(tasks) > 0 and tasks[0][1] <= current_time:\n",
    "            heapq.heappush(q, tasks.popleft())\n",
    "        if len(tasks) > 0 and len(q) == 0:\n",
    "            heapq.heappush(q, tasks.popleft())\n",
    "    return total_response_time // len(jobs)"
   ]
  },
  {
   "cell_type": "code",
   "execution_count": null,
   "metadata": {},
   "outputs": [],
   "source": []
  },
  {
   "cell_type": "code",
   "execution_count": 1,
   "metadata": {},
   "outputs": [],
   "source": [
    "from collections  import deque \n",
    "def solution(jobs):\n",
    "    answer = 0\n",
    "    now = 0\n",
    "    request = deque(sorted(jobs, key = lambda x : (x[0],x[1])))\n",
    "    print(request)\n",
    "    print( )\n",
    "    rq = request.popleft()\n",
    "    answer = (rq[1])\n",
    "    now = (rq[0] + rq[1])\n",
    "    while request :\n",
    "        if request[0][0] > now :\n",
    "            rq = request.popleft()\n",
    "            now = (rq[0] + rq[1])\n",
    "            answer += ( rq[1])\n",
    "        else :\n",
    "            min = request[0]\n",
    "            arrive = []\n",
    "            for rq in request :\n",
    "                arrive.append(rq)\n",
    "                if rq[0] > now : \n",
    "                    break\n",
    "                if rq[1] < min[1] :\n",
    "                    min = rq\n",
    "            request.remove(min)\n",
    "            temp = (now - min[0] + min[1])\n",
    "            answer += (now - min[0] + min[1])\n",
    "            now +=  min[1]\n",
    "    \n",
    "    return (answer // len(jobs))"
   ]
  }
 ],
 "metadata": {
  "kernelspec": {
   "display_name": "Python 3",
   "language": "python",
   "name": "python3"
  },
  "language_info": {
   "codemirror_mode": {
    "name": "ipython",
    "version": 3
   },
   "file_extension": ".py",
   "mimetype": "text/x-python",
   "name": "python",
   "nbconvert_exporter": "python",
   "pygments_lexer": "ipython3",
   "version": "3.8.5"
  }
 },
 "nbformat": 4,
 "nbformat_minor": 4
}
